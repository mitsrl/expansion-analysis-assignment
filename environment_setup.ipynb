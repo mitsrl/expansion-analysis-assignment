{
  "nbformat": 4,
  "nbformat_minor": 0,
  "metadata": {
    "colab": {
      "name": "environment-setup.ipynb",
      "provenance": [],
      "authorship_tag": "ABX9TyO+iod/iJZYUiZpjujaGHTj",
      "include_colab_link": true
    },
    "kernelspec": {
      "name": "python3",
      "display_name": "Python 3"
    }
  },
  "cells": [
    {
      "cell_type": "markdown",
      "metadata": {
        "id": "view-in-github",
        "colab_type": "text"
      },
      "source": [
        "<a href=\"https://colab.research.google.com/github/mitsrl/8.942-hello-world/blob/main/environment_setup.ipynb\" target=\"_parent\"><img src=\"https://colab.research.google.com/assets/colab-badge.svg\" alt=\"Open In Colab\"/></a>"
      ]
    },
    {
      "cell_type": "markdown",
      "metadata": {
        "id": "acMXRBMpIkia",
        "colab_type": "text"
      },
      "source": [
        "**Example Notebook Setup**\n",
        "\n",
        "Before starting we need to give this notebook access to the git repository.\n",
        "\n",
        "Use the left sidebar to upload a private key and name the file \"id_rsa_REPO_NAME\" (replacing REPO_NAME with the Github repository name). If you've not yet generated a key, you can do so with the command `ssh-keygen -f id_rsa_REPO_NAME -q -N \"\"` in a terminal (if you don't have access to a terminal you can run the command directly in this notebook by preceding it with a `!`). Save a copy of your private key, you will need to upload it again every time Google shuts down your session. The corresponding public key should be added as a \"deploy key\" to the repository (under the repo settings on Github).\n",
        "\n",
        "You should treat these private keys as disposable passwords to your Github repo. Do not reuse keys between repos (but it may be convienient to share them with trusted collaborators)."
      ]
    },
    {
      "cell_type": "code",
      "metadata": {
        "id": "h9VhqH4tOojH",
        "colab_type": "code",
        "colab": {}
      },
      "source": [
        "# Set your repository name here.\n",
        "REPO_NAME = \"hello-world-kiyo-masui\"\n",
        "ORG_NAME = \"mit-8-942-2020\""
      ],
      "execution_count": 2,
      "outputs": []
    },
    {
      "cell_type": "code",
      "metadata": {
        "id": "YfcSDPwKNwzG",
        "colab_type": "code",
        "colab": {}
      },
      "source": [
        "# This handy cell generates a new key pair and downloads them, should you need it.\n",
        "from os import path\n",
        "keyfile = \"/content/id_rsa_%s\" % REPO_NAME\n",
        "if not path.exists(keyfile):\n",
        "    !ssh-keygen -f {keyfile} -q -N \"\"\n",
        "    print(\"Add this deploy key to repo:\")\n",
        "    !cat {keyfile}.pub\n",
        "    from google.colab import files\n",
        "    files.download(keyfile)\n",
        "    files.download(keyfile + \".pub\")"
      ],
      "execution_count": null,
      "outputs": []
    },
    {
      "cell_type": "code",
      "metadata": {
        "id": "trnGLH7YDWet",
        "colab_type": "code",
        "colab": {}
      },
      "source": [
        "# This is some basic setup of the authentication proceedure.\n",
        "!chmod 600 id_rsa_{REPO_NAME}\n",
        "%env GIT_SSH_COMMAND=ssh -i /content/id_rsa_{REPO_NAME} -o IdentitiesOnly=yes -F /dev/null -o StrictHostKeyChecking=no\n",
        "# Clone (download) the repo.\n",
        "!git clone git@github.com:{ORG_NAME}/{REPO_NAME}.git\n",
        "# Enter the repo directory and install the software, including dependecies.\n",
        "%cd {REPO_NAME}\n",
        "!pip install ."
      ],
      "execution_count": null,
      "outputs": []
    },
    {
      "cell_type": "markdown",
      "metadata": {
        "id": "3c9897ouMgck",
        "colab_type": "text"
      },
      "source": [
        "After the above, the code should be all set up. You can now import and use it, interact with the repo using git, and run the tests."
      ]
    },
    {
      "cell_type": "code",
      "metadata": {
        "id": "H9YKPIp5H-XI",
        "colab_type": "code",
        "colab": {}
      },
      "source": [
        "from hello_world.hello_world import hello\n",
        "hello(\"Me\")"
      ],
      "execution_count": null,
      "outputs": []
    },
    {
      "cell_type": "code",
      "metadata": {
        "id": "s3XmUE62H_P6",
        "colab_type": "code",
        "colab": {}
      },
      "source": [
        "%ls\n",
        "!git status"
      ],
      "execution_count": null,
      "outputs": []
    },
    {
      "cell_type": "code",
      "metadata": {
        "id": "yjI2fwfDIDaO",
        "colab_type": "code",
        "colab": {}
      },
      "source": [
        "!python -m pytest"
      ],
      "execution_count": null,
      "outputs": []
    },
    {
      "cell_type": "code",
      "metadata": {
        "id": "r-CU_KC9OkWe",
        "colab_type": "code",
        "colab": {}
      },
      "source": [
        ""
      ],
      "execution_count": null,
      "outputs": []
    }
  ]
}