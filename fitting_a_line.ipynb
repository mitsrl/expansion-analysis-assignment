{
 "cells": [
  {
   "cell_type": "markdown",
   "metadata": {
    "colab_type": "text",
    "id": "acMXRBMpIkia"
   },
   "source": [
    "**Notebook Setup**\n",
    "\n",
    "Before starting we need to give this notebook access to the git repository.\n",
    "\n",
    "Use the left sidebar to upload a private key and name the file \"id_rsa_REPO_NAME\" (replacing REPO_NAME with the Github repository name). If you've not yet generated a key, you can do so with the command `ssh-keygen -f id_rsa_REPO_NAME -q -N \"\"` in a terminal (if you don't have access to a terminal you can run the command directly in this notebook by preceding it with a `!`). Save a copy of your private key, you will need to upload it again every time Google shuts down your session. The corresponding public key should be added as a \"deploy key\" to the repository (under the repo settings on Github).\n",
    "\n",
    "You should treat these private keys as disposable passwords to your Github repo. Do not reuse keys between repos (but it may be convienient to share them with trusted collaborators)."
   ]
  },
  {
   "cell_type": "code",
   "execution_count": null,
   "metadata": {
    "colab": {},
    "colab_type": "code",
    "id": "h9VhqH4tOojH"
   },
   "outputs": [],
   "source": [
    "# Set your repository name here.\n",
    "REPO_NAME = \"hello-world-kiyo-masui\"\n",
    "ORG_NAME = \"mit-8-942-2020\""
   ]
  },
  {
   "cell_type": "code",
   "execution_count": null,
   "metadata": {
    "colab": {},
    "colab_type": "code",
    "id": "YfcSDPwKNwzG"
   },
   "outputs": [],
   "source": [
    "# This handy cell generates a new key pair and downloads them, should you need it.\n",
    "from os import path\n",
    "keyfile = \"/content/id_rsa_%s\" % REPO_NAME\n",
    "if not path.exists(keyfile):\n",
    "    !ssh-keygen -f {keyfile} -q -N \"\"\n",
    "    print(\"Add this deploy key to repo:\")\n",
    "    !cat {keyfile}.pub\n",
    "    from google.colab import files\n",
    "    files.download(keyfile)\n",
    "    files.download(keyfile + \".pub\")"
   ]
  },
  {
   "cell_type": "code",
   "execution_count": null,
   "metadata": {
    "colab": {},
    "colab_type": "code",
    "id": "trnGLH7YDWet"
   },
   "outputs": [],
   "source": [
    "# This is some basic setup of the authentication proceedure.\n",
    "!chmod 600 id_rsa_{REPO_NAME}\n",
    "%env GIT_SSH_COMMAND=ssh -i /content/id_rsa_{REPO_NAME} -o IdentitiesOnly=yes -F /dev/null -o StrictHostKeyChecking=no\n",
    "# Clone (download) the repo.\n",
    "!git clone git@github.com:{ORG_NAME}/{REPO_NAME}.git\n",
    "# Enter the repo directory and install the software, including dependecies.\n",
    "%cd {REPO_NAME}\n",
    "!pip install ."
   ]
  },
  {
   "cell_type": "markdown",
   "metadata": {
    "colab_type": "text",
    "id": "3c9897ouMgck"
   },
   "source": [
    "After the above, the code should be all set up. You can now import and use it, interact with the repo using git, and run the tests."
   ]
  },
  {
   "cell_type": "code",
   "execution_count": 1,
   "metadata": {
    "colab": {},
    "colab_type": "code",
    "id": "H9YKPIp5H-XI"
   },
   "outputs": [],
   "source": [
    "# This sets how figures will be displayed.\n",
    "%matplotlib inline\n",
    "\n",
    "# Import libraries we will use\n",
    "import numpy as np\n",
    "import matplotlib.pyplot as plt\n",
    "\n",
    "from expansion_fitter import fitters"
   ]
  },
  {
   "cell_type": "code",
   "execution_count": null,
   "metadata": {
    "colab": {},
    "colab_type": "code",
    "id": "s3XmUE62H_P6"
   },
   "outputs": [],
   "source": [
    "%ls\n",
    "!git status"
   ]
  },
  {
   "cell_type": "code",
   "execution_count": null,
   "metadata": {
    "colab": {},
    "colab_type": "code",
    "id": "yjI2fwfDIDaO"
   },
   "outputs": [],
   "source": [
    "!python -m pytest"
   ]
  },
  {
   "cell_type": "code",
   "execution_count": null,
   "metadata": {
    "colab": {},
    "colab_type": "code",
    "id": "r-CU_KC9OkWe"
   },
   "outputs": [],
   "source": [
    "# After pulling a new version of the code you need to reload it.\n",
    "!git pull\n",
    "import importlib\n",
    "importlib.reload(fitters)"
   ]
  },
  {
   "cell_type": "code",
   "execution_count": 2,
   "metadata": {},
   "outputs": [],
   "source": [
    "# I'm going to fit a linear model (a straight line) using non-linear techniques.\n",
    "# Then add in a twist: add a direct measurement of the slope of the line,\n",
    "# which makes the data hetrogenious.\n",
    "\n",
    "\n",
    "# Normal x-y data.\n",
    "x = np.array([1., 3., 4., 6., 7.])\n",
    "y_measured = np.array([-1.2, 1.86, 1.47, 4.37, 4.74])\n",
    "y_error = np.array([1.00, 0.60, 0.50, 0.41, 0.38])\n",
    "\n",
    "# Direct slope measurement.\n",
    "slope_measured = 0.828\n",
    "slope_measured_error = 0.060"
   ]
  },
  {
   "cell_type": "code",
   "execution_count": 3,
   "metadata": {},
   "outputs": [],
   "source": [
    "# First do the fit without the direct slope measurement\n",
    "fitter1 = fitters.LineFitter(x, y_measured, y_error)\n",
    "pars_est1, covariance1 = fitter1.fit([1, 1])\n",
    "errors1 = np.sqrt(np.diagonal(covariance1))\n",
    "\n",
    "# Now with the direct slope constraint\n",
    "fitter2 = fitters.LineFitterWithSlopeMeasurement(x, y_measured, y_error, slope_measured, slope_measured_error)\n",
    "pars_est2, covariance2 = fitter2.fit([1, 1])\n",
    "errors2 = np.sqrt(np.diagonal(covariance2))"
   ]
  },
  {
   "cell_type": "code",
   "execution_count": 4,
   "metadata": {},
   "outputs": [
    {
     "data": {
      "text/plain": [
       "<matplotlib.legend.Legend at 0x12f6e3a50>"
      ]
     },
     "execution_count": 4,
     "metadata": {},
     "output_type": "execute_result"
    },
    {
     "data": {
      "image/png": "[encoded data removed]",
      "text/plain": [
       "<Figure size 432x288 with 1 Axes>"
      ]
     },
     "metadata": {
      "needs_background": "light"
     },
     "output_type": "display_data"
    }
   ],
   "source": [
    "# Plots of the data and best fit lines for both fits.\n",
    "\n",
    "def line(slope, offset, x):\n",
    "    \"\"\"y = mx + b\"\"\"\n",
    "    return slope * x + offset\n",
    "\n",
    "# Plot the data\n",
    "plt.errorbar(x, y_measured, y_error, linestyle='', marker='+')\n",
    "plt.xlabel(\"x\")\n",
    "plt.ylabel(\"y\")\n",
    "# Add best fit lines to our plot.\n",
    "x_range = np.array([0, 7.5])\n",
    "plt.plot(x_range, line(pars_est1[0], pars_est1[1], x_range), linestyle=':',\n",
    "         label=\"no slope measurement\")\n",
    "plt.plot(x_range, line(pars_est2[0], pars_est2[1], x_range), linestyle='--',\n",
    "         label=\"with slope measurement\")\n",
    "plt.legend()\n"
   ]
  },
  {
   "cell_type": "code",
   "execution_count": 5,
   "metadata": {},
   "outputs": [
    {
     "data": {
      "text/plain": [
       "<matplotlib.contour.QuadContourSet at 0x12f864490>"
      ]
     },
     "execution_count": 5,
     "metadata": {},
     "output_type": "execute_result"
    },
    {
     "data": {
      "image/png": "[encoded data removed]",
      "text/plain": [
       "<Figure size 432x288 with 1 Axes>"
      ]
     },
     "metadata": {
      "needs_background": "light"
     },
     "output_type": "display_data"
    }
   ],
   "source": [
    "# Plots of the parameter space constraints for both fits\n",
    "\n",
    "# Create arrays of parameter-space location offsets from best fit.\n",
    "delta_par_slope, delta_par_offset = np.meshgrid(\n",
    "        np.linspace(-3 * errors1[0], 3 * errors1[0], 100),\n",
    "        np.linspace(-3 * errors1[1], 3 * errors1[1], 100),\n",
    "        )\n",
    "\n",
    "# Calculate how far each point in parameter space is from the best fit location.\n",
    "nsigmas = np.array([[ fitters.n_signmas_pars(delta_par_slope[ii, jj], delta_par_offset[ii, jj], covariance1)\n",
    "                   for ii in range(len(delta_par_slope)) ] for jj in range(len(delta_par_offset)) ])\n",
    "plt.figure(1)\n",
    "plt.contourf(\n",
    "        delta_par_slope + pars_est1[0],\n",
    "        delta_par_offset + pars_est1[1],\n",
    "        # Negative sign just to reverse the colormap.\n",
    "        -nsigmas,\n",
    "        levels=-np.array([-0.1, 1, 2, 3])[::-1],\n",
    "        cmap=plt.cm.Blues,\n",
    "        )\n",
    "plt.xlabel(\"slope\")\n",
    "plt.ylabel(\"offset\")\n",
    "\n",
    "\n",
    "plt.axvline(slope_measured - slope_measured_error)\n",
    "plt.axvline(slope_measured + slope_measured_error)\n",
    "\n",
    "nsigmas = np.array([[ fitters.n_signmas_pars(delta_par_slope[ii, jj], delta_par_offset[ii, jj], covariance2)\n",
    "                   for ii in range(len(delta_par_slope)) ] for jj in range(len(delta_par_offset)) ])\n",
    "plt.figure(1)\n",
    "plt.contourf(\n",
    "        delta_par_slope + pars_est2[0],\n",
    "        delta_par_offset + pars_est2[1],\n",
    "        # Negative sign just to reverse the colormap.\n",
    "        -nsigmas,\n",
    "        levels=-np.array([-0.1, 1, 2, 3])[::-1],\n",
    "        cmap=plt.cm.Reds,\n",
    "        alpha=0.7\n",
    "        )\n",
    "\n"
   ]
  },
  {
   "cell_type": "code",
   "execution_count": null,
   "metadata": {},
   "outputs": [],
   "source": []
  }
 ],
 "metadata": {
  "colab": {
   "authorship_tag": "ABX9TyO+iod/iJZYUiZpjujaGHTj",
   "include_colab_link": true,
   "name": "environment-setup.ipynb",
   "provenance": []
  },
  "kernelspec": {
   "display_name": "Python 3",
   "language": "python",
   "name": "python3"
  },
  "language_info": {
   "codemirror_mode": {
    "name": "ipython",
    "version": 3
   },
   "file_extension": ".py",
   "mimetype": "text/x-python",
   "name": "python",
   "nbconvert_exporter": "python",
   "pygments_lexer": "ipython3",
   "version": "3.7.7"
  }
 },
 "nbformat": 4,
 "nbformat_minor": 1
}
